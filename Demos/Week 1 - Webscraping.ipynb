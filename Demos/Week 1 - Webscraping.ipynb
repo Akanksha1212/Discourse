{
 "cells": [
  {
   "cell_type": "markdown",
   "metadata": {},
   "source": [
    "## Week 1: Webscraping Demo with Beautiful Soup "
   ]
  },
  {
   "cell_type": "markdown",
   "metadata": {},
   "source": [
    "### First let's build a simple 1 column DataFrame with Beautiful Soup "
   ]
  },
  {
   "cell_type": "markdown",
   "metadata": {},
   "source": [
    "Note: Beautiful soup is used for demo purposes, we will be using Selenium or Scrapy in our project "
   ]
  },
  {
   "cell_type": "code",
   "execution_count": 19,
   "metadata": {},
   "outputs": [],
   "source": [
    "# imports and environment setup \n",
    "import pandas as pd\n",
    "import numpy as np\n",
    "import requests\n",
    "from bs4 import BeautifulSoup "
   ]
  },
  {
   "cell_type": "code",
   "execution_count": 20,
   "metadata": {},
   "outputs": [],
   "source": [
    "URL = 'https://community.mypaint.org/'\n",
    "page = requests.get(URL, headers={'User-Agent': 'Mozilla/5.0'})\n",
    "soup = BeautifulSoup(page.content, 'html.parser')"
   ]
  },
  {
   "cell_type": "markdown",
   "metadata": {},
   "source": [
    "#### Let's inspect the page and find the data we want "
   ]
  },
  {
   "cell_type": "markdown",
   "metadata": {},
   "source": [
    "We are looking for where the titles live "
   ]
  },
  {
   "cell_type": "code",
   "execution_count": 21,
   "metadata": {},
   "outputs": [],
   "source": [
    "# Table tag \n",
    "table = soup.find_all('table')"
   ]
  },
  {
   "cell_type": "code",
   "execution_count": 22,
   "metadata": {},
   "outputs": [
    {
     "data": {
      "text/plain": [
       "1"
      ]
     },
     "execution_count": 22,
     "metadata": {},
     "output_type": "execute_result"
    }
   ],
   "source": [
    "len(table)"
   ]
  },
  {
   "cell_type": "code",
   "execution_count": 23,
   "metadata": {},
   "outputs": [],
   "source": [
    "# Table row tag \n",
    "rows = table[0].find_all('tr')"
   ]
  },
  {
   "cell_type": "code",
   "execution_count": 24,
   "metadata": {},
   "outputs": [
    {
     "data": {
      "text/plain": [
       "31"
      ]
     },
     "execution_count": 24,
     "metadata": {},
     "output_type": "execute_result"
    }
   ],
   "source": [
    "len(rows) # 31 topics  "
   ]
  },
  {
   "cell_type": "code",
   "execution_count": 25,
   "metadata": {},
   "outputs": [
    {
     "data": {
      "text/plain": [
       "<tr>\n",
       "<th>Topic</th>\n",
       "<th></th>\n",
       "<th>Replies</th>\n",
       "<th>Views</th>\n",
       "<th>Activity</th>\n",
       "</tr>"
      ]
     },
     "execution_count": 25,
     "metadata": {},
     "output_type": "execute_result"
    }
   ],
   "source": [
    "rows[0] # headers "
   ]
  },
  {
   "cell_type": "code",
   "execution_count": 26,
   "metadata": {},
   "outputs": [],
   "source": [
    "# rows[30]"
   ]
  },
  {
   "cell_type": "code",
   "execution_count": 27,
   "metadata": {},
   "outputs": [],
   "source": [
    "# Within each row tag \n",
    "span = rows[1].find_all('span')"
   ]
  },
  {
   "cell_type": "code",
   "execution_count": 28,
   "metadata": {},
   "outputs": [
    {
     "data": {
      "text/plain": [
       "<span class=\"link-top-line\">\n",
       "<a class=\"title raw-link raw-topic-link\" href=\"https://community.mypaint.org/t/welcome-to-the-mypaint-community/8\">Welcome to the MyPaint Community!</a>\n",
       "</span>"
      ]
     },
     "execution_count": 28,
     "metadata": {},
     "output_type": "execute_result"
    }
   ],
   "source": [
    "span[0]"
   ]
  },
  {
   "cell_type": "code",
   "execution_count": 29,
   "metadata": {},
   "outputs": [],
   "source": [
    "# Within each span tag \n",
    "a = span[0].find_all('a')"
   ]
  },
  {
   "cell_type": "code",
   "execution_count": 30,
   "metadata": {},
   "outputs": [
    {
     "data": {
      "text/plain": [
       "'Welcome to the MyPaint Community!'"
      ]
     },
     "execution_count": 30,
     "metadata": {},
     "output_type": "execute_result"
    }
   ],
   "source": [
    "a[0].text"
   ]
  },
  {
   "cell_type": "markdown",
   "metadata": {},
   "source": [
    "#### Let's make a for loop "
   ]
  },
  {
   "cell_type": "markdown",
   "metadata": {},
   "source": [
    "Store all titles in an array with a for loop \n",
    "\n",
    "Later if we want more than 1 column we can use a dictionary "
   ]
  },
  {
   "cell_type": "code",
   "execution_count": 32,
   "metadata": {},
   "outputs": [],
   "source": [
    "titles = []\n",
    "\n",
    "# Omit 1 up to length of row - do not want header - no title in there \n",
    "for i in range (1, len(rows)):\n",
    "    \n",
    "    # finding 'span' in each row \n",
    "    span = rows[i].find_all('span')\n",
    "    #print(span)\n",
    "    \n",
    "    # Finding 'a' tags in spans \n",
    "    a = span[0].find_all('a')\n",
    "    titles.append(a[0].text)"
   ]
  },
  {
   "cell_type": "code",
   "execution_count": 33,
   "metadata": {},
   "outputs": [
    {
     "data": {
      "text/plain": [
       "30"
      ]
     },
     "execution_count": 33,
     "metadata": {},
     "output_type": "execute_result"
    }
   ],
   "source": [
    "# We have the first 30 titles stored \n",
    "len(titles)"
   ]
  },
  {
   "cell_type": "code",
   "execution_count": 34,
   "metadata": {},
   "outputs": [],
   "source": [
    "# Make Pandas dataframe \n",
    "dataframe = pd.DataFrame(titles)"
   ]
  },
  {
   "cell_type": "code",
   "execution_count": 39,
   "metadata": {},
   "outputs": [
    {
     "data": {
      "text/html": [
       "<div>\n",
       "<style scoped>\n",
       "    .dataframe tbody tr th:only-of-type {\n",
       "        vertical-align: middle;\n",
       "    }\n",
       "\n",
       "    .dataframe tbody tr th {\n",
       "        vertical-align: top;\n",
       "    }\n",
       "\n",
       "    .dataframe thead th {\n",
       "        text-align: right;\n",
       "    }\n",
       "</style>\n",
       "<table border=\"1\" class=\"dataframe\">\n",
       "  <thead>\n",
       "    <tr style=\"text-align: right;\">\n",
       "      <th></th>\n",
       "      <th>0</th>\n",
       "    </tr>\n",
       "  </thead>\n",
       "  <tbody>\n",
       "    <tr>\n",
       "      <td>0</td>\n",
       "      <td>Welcome to the MyPaint Community!</td>\n",
       "    </tr>\n",
       "    <tr>\n",
       "      <td>1</td>\n",
       "      <td>New Developer Looking For Some Code Pointers</td>\n",
       "    </tr>\n",
       "    <tr>\n",
       "      <td>2</td>\n",
       "      <td>MyPaint v2.0.1 Released</td>\n",
       "    </tr>\n",
       "    <tr>\n",
       "      <td>3</td>\n",
       "      <td>MyPaint v2.0.0 Released</td>\n",
       "    </tr>\n",
       "    <tr>\n",
       "      <td>4</td>\n",
       "      <td>Add Selection Tools</td>\n",
       "    </tr>\n",
       "    <tr>\n",
       "      <td>5</td>\n",
       "      <td>When will MyPaint 2.0.0 packaged into reposito...</td>\n",
       "    </tr>\n",
       "    <tr>\n",
       "      <td>6</td>\n",
       "      <td>Any way to get this effect?</td>\n",
       "    </tr>\n",
       "    <tr>\n",
       "      <td>7</td>\n",
       "      <td>MyPaint v2.0.0 Postponed</td>\n",
       "    </tr>\n",
       "    <tr>\n",
       "      <td>8</td>\n",
       "      <td>Disable checkboard during Layer Solo mode?</td>\n",
       "    </tr>\n",
       "    <tr>\n",
       "      <td>9</td>\n",
       "      <td>Christmas for Brothers and Sister</td>\n",
       "    </tr>\n",
       "    <tr>\n",
       "      <td>10</td>\n",
       "      <td>MyPaint + Krita + Cube i7 Tablet - together</td>\n",
       "    </tr>\n",
       "    <tr>\n",
       "      <td>11</td>\n",
       "      <td>Making Krita feel like MyPaint?</td>\n",
       "    </tr>\n",
       "    <tr>\n",
       "      <td>12</td>\n",
       "      <td>Dieterle's MyPaintings</td>\n",
       "    </tr>\n",
       "    <tr>\n",
       "      <td>13</td>\n",
       "      <td>Wacom Rotation Stylus support for Windows</td>\n",
       "    </tr>\n",
       "    <tr>\n",
       "      <td>14</td>\n",
       "      <td>Ability to Edit the \"Change Bursh/Color\" list ...</td>\n",
       "    </tr>\n",
       "    <tr>\n",
       "      <td>15</td>\n",
       "      <td>Parallel (Example Post)</td>\n",
       "    </tr>\n",
       "    <tr>\n",
       "      <td>16</td>\n",
       "      <td>Artzox's Artworks</td>\n",
       "    </tr>\n",
       "    <tr>\n",
       "      <td>17</td>\n",
       "      <td>Wacom One 13 with MyPaint</td>\n",
       "    </tr>\n",
       "    <tr>\n",
       "      <td>18</td>\n",
       "      <td>Mega Menu to sort by type within brush set</td>\n",
       "    </tr>\n",
       "    <tr>\n",
       "      <td>19</td>\n",
       "      <td>Hello :)</td>\n",
       "    </tr>\n",
       "    <tr>\n",
       "      <td>20</td>\n",
       "      <td>Challenge: reproduce (not exactly but close) t...</td>\n",
       "    </tr>\n",
       "    <tr>\n",
       "      <td>21</td>\n",
       "      <td>How to switch language?</td>\n",
       "    </tr>\n",
       "    <tr>\n",
       "      <td>22</td>\n",
       "      <td>Unable to load any file</td>\n",
       "    </tr>\n",
       "    <tr>\n",
       "      <td>23</td>\n",
       "      <td>Randomly generated end of stroke</td>\n",
       "    </tr>\n",
       "    <tr>\n",
       "      <td>24</td>\n",
       "      <td>Making it easier to to view dockable window</td>\n",
       "    </tr>\n",
       "    <tr>\n",
       "      <td>25</td>\n",
       "      <td>Overview panel preview settings</td>\n",
       "    </tr>\n",
       "    <tr>\n",
       "      <td>26</td>\n",
       "      <td>Increase Undo History Length</td>\n",
       "    </tr>\n",
       "    <tr>\n",
       "      <td>27</td>\n",
       "      <td>Port Pinta as part of a mode inside MyPaint</td>\n",
       "    </tr>\n",
       "    <tr>\n",
       "      <td>28</td>\n",
       "      <td>Failed to build</td>\n",
       "    </tr>\n",
       "    <tr>\n",
       "      <td>29</td>\n",
       "      <td>Introduce Yourself</td>\n",
       "    </tr>\n",
       "  </tbody>\n",
       "</table>\n",
       "</div>"
      ],
      "text/plain": [
       "                                                    0\n",
       "0                   Welcome to the MyPaint Community!\n",
       "1        New Developer Looking For Some Code Pointers\n",
       "2                             MyPaint v2.0.1 Released\n",
       "3                             MyPaint v2.0.0 Released\n",
       "4                                 Add Selection Tools\n",
       "5   When will MyPaint 2.0.0 packaged into reposito...\n",
       "6                         Any way to get this effect?\n",
       "7                            MyPaint v2.0.0 Postponed\n",
       "8          Disable checkboard during Layer Solo mode?\n",
       "9                   Christmas for Brothers and Sister\n",
       "10        MyPaint + Krita + Cube i7 Tablet - together\n",
       "11                    Making Krita feel like MyPaint?\n",
       "12                             Dieterle's MyPaintings\n",
       "13          Wacom Rotation Stylus support for Windows\n",
       "14  Ability to Edit the \"Change Bursh/Color\" list ...\n",
       "15                            Parallel (Example Post)\n",
       "16                                  Artzox's Artworks\n",
       "17                          Wacom One 13 with MyPaint\n",
       "18         Mega Menu to sort by type within brush set\n",
       "19                                           Hello :)\n",
       "20  Challenge: reproduce (not exactly but close) t...\n",
       "21                            How to switch language?\n",
       "22                            Unable to load any file\n",
       "23                   Randomly generated end of stroke\n",
       "24        Making it easier to to view dockable window\n",
       "25                    Overview panel preview settings\n",
       "26                       Increase Undo History Length\n",
       "27        Port Pinta as part of a mode inside MyPaint\n",
       "28                                    Failed to build\n",
       "29                                 Introduce Yourself"
      ]
     },
     "execution_count": 39,
     "metadata": {},
     "output_type": "execute_result"
    }
   ],
   "source": [
    "# Print first 30 rows of DataFrame \n",
    "dataframe.head(32)"
   ]
  },
  {
   "cell_type": "markdown",
   "metadata": {},
   "source": [
    "Now we have a DataFrame of 1 column with the titles we can export as a csv file \n",
    "\n",
    "This is very bare minimum so we want to build on this dataset "
   ]
  },
  {
   "cell_type": "markdown",
   "metadata": {},
   "source": [
    "### Next steps: \n",
    "#### Here you guys will get to start figuring out things and building your skills! "
   ]
  },
  {
   "cell_type": "markdown",
   "metadata": {},
   "source": [
    "#### There are more than 30 posts (rows) existing on this forum \n",
    "We want more rows (we can decide how many specifically) \n",
    "\n",
    "Trade off: more rows - longer to train, too few rows - not enough to gain meaningful insights \n",
    "\n",
    "#### We don't have separate pages\n",
    "We have a dynamically loading page - conitnuous scrolling \n",
    "- we have no separate URLs, API function call instead \n",
    "\n",
    "#### Proposed solutions \n",
    "1: Go into javascript and figure out API call for dynamic loading to use function in code \n",
    "\n",
    "2: Easier - use Selenium - allows python to control web browser - scroll down and get the page over and over again \n",
    "\n",
    "-> idea: encapsulate in another for or while loop (for how many times to call) and change syntax to Selenium \n",
    "\n",
    "#### Decide if we want more columns \n",
    "Information include: actual text in each topic, metadata (replies, activity) \n",
    "\n",
    "One idea: Use dictionairies or append columns (must make sure columns line up) \n",
    "\n",
    "To use Dictionary: \n",
    "\n",
    "-Each dictionary is a row \n",
    "\n",
    "-Each user is represented as a row \n",
    "\n",
    "-Key is column name, value is the unique value \n",
    "\n",
    "-Each dictionary has same keys but different values \n",
    "\n",
    "#### If we want to sort the posts in any way \n",
    "Latest versus top "
   ]
  },
  {
   "cell_type": "markdown",
   "metadata": {},
   "source": [
    "References: Webscraping: https://erikrood.com/Python_References/web_scrape.html"
   ]
  },
  {
   "cell_type": "markdown",
   "metadata": {},
   "source": [
    "By: Jennifer Dong "
   ]
  }
 ],
 "metadata": {
  "kernelspec": {
   "display_name": "Python 3",
   "language": "python",
   "name": "python3"
  },
  "language_info": {
   "codemirror_mode": {
    "name": "ipython",
    "version": 3
   },
   "file_extension": ".py",
   "mimetype": "text/x-python",
   "name": "python",
   "nbconvert_exporter": "python",
   "pygments_lexer": "ipython3",
   "version": "3.7.4"
  }
 },
 "nbformat": 4,
 "nbformat_minor": 2
}
